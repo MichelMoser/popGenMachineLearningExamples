{
 "cells": [
  {
   "cell_type": "markdown",
   "metadata": {},
   "source": [
    "# Using a random forest to infer past population size\n",
    "In this example we are going to try to infer the past population size after an instantenous population contraction/expansion. Technically what we are inferring is the ratio of the ancestral size to the current size. We are also assuming the time of the size change is known. Again for the purposes of this simple example we are taking the unusal step of doing some demographic inference when examining one locus rather than many loci, but hopefully the exercise will still be illustrative."
   ]
  },
  {
   "cell_type": "markdown",
   "metadata": {},
   "source": [
    "## Preliminaries\n",
    "The road map here will be to 1) simulate a bunch of loci each with a randomly drawn ancestral population size (which we will record) 2) to train a regressor to infer this size on the basis of a feature vector of summary statistics 3) test our accurracy on a set of simulations not used during training 4) to graphically present how well our trained classifier works.\n",
    "\n",
    "To do this we will use coalescent simulations as implemented in our Dick Hudson's `ms` and will again use `scikit-learn` for our machine learning. For our statistics, we will use Alistair Miles' `scikit-allel` python package.\n",
    "\n",
    "(Note: `scikit-allel` is an excellent package for this sort of thing. There are other nice packages that are equally excellent and well suited for our task here, but `scikit-allel` is up and running on the machine I am writing this from so that is what we are using. Don't hate on me, friends!)"
   ]
  },
  {
   "cell_type": "markdown",
   "metadata": {},
   "source": [
    "### Install and compile `ms`\n",
    "We have put a copy of the `ms` tarball in this repo, so the following should work upon cloning. (Note that this step is not required if you have already gone through `demographicModelSelectionExample.ipynb`.)"
   ]
  },
  {
   "cell_type": "code",
   "execution_count": 3,
   "metadata": {
    "collapsed": true,
    "scrolled": true
   },
   "outputs": [],
   "source": [
    "#untar and compile ms and sample_stats\n",
    "!tar zxf ms.tar.gz; cd msdir; gcc -o ms ms.c streec.c rand1.c -lm\n",
    "#I get three compiler warnings from ms, but everything should be fine\n",
    "#now I'll just move the program into the current working dir\n",
    "!mv msdir/ms .;"
   ]
  },
  {
   "cell_type": "markdown",
   "metadata": {},
   "source": [
    "### Install `scikit-learn`\n",
    "If you use anaconda or have gone through any of our other examples, you may already have these modules installed, but if not you can install with either of the following:"
   ]
  },
  {
   "cell_type": "code",
   "execution_count": null,
   "metadata": {
    "collapsed": true
   },
   "outputs": [],
   "source": [
    "!conda install scikit-learn"
   ]
  },
  {
   "cell_type": "markdown",
   "metadata": {},
   "source": [
    "or if you don't use `conda`, you can use `pip` to install scikit-learn with"
   ]
  },
  {
   "cell_type": "code",
   "execution_count": null,
   "metadata": {
    "collapsed": true
   },
   "outputs": [],
   "source": [
    "!pip install -U scikit-learn"
   ]
  },
  {
   "cell_type": "markdown",
   "metadata": {},
   "source": [
    "### Install `scikit-allel`\n",
    "See https://scikit-allel.readthedocs.io/en/latest/, but this is easy to do if you have anaconda installed:"
   ]
  },
  {
   "cell_type": "code",
   "execution_count": null,
   "metadata": {
    "collapsed": true
   },
   "outputs": [],
   "source": [
    "conda install -c conda-forge scikit-allel"
   ]
  },
  {
   "cell_type": "markdown",
   "metadata": {},
   "source": [
    "Alternatively, you could use pip, provided you have already installed the following dependencies: numpy, scipy, matplotlib, seaborn, pandas, scikit-learn, h5py, numexpr, bcolz, zarr and dask. "
   ]
  },
  {
   "cell_type": "code",
   "execution_count": null,
   "metadata": {
    "collapsed": true
   },
   "outputs": [],
   "source": [
    "pip install scikit-allel"
   ]
  },
  {
   "cell_type": "markdown",
   "metadata": {},
   "source": [
    "# Step 1: create a training set and a testing set\n",
    "We will use `ms` and its `tbs` feature to generate 10000 replicates each with its own randomly selected recombination rate. Let's start by drawing the rates and recording them in a file."
   ]
  },
  {
   "cell_type": "code",
   "execution_count": 11,
   "metadata": {},
   "outputs": [],
   "source": [
    "import random\n",
    "\n",
    "with open(\"random_pop_size.sizes\", \"w\") as f:\n",
    "    for i in range(10000):\n",
    "        #we will let the present:ancient ratio range from 0.1 to 10\n",
    "        popSize = 10**(random.random()*2-1)\n",
    "        f.write(\"%f\\n\" %(popSize))\n"
   ]
  },
  {
   "cell_type": "markdown",
   "metadata": {},
   "source": [
    "Now that we have our rates in hand we will feed them into `ms` and perform our simulations."
   ]
  },
  {
   "cell_type": "code",
   "execution_count": 14,
   "metadata": {},
   "outputs": [],
   "source": [
    "#simulate under the equilibrium model -- could also do this with ms\n",
    "!./ms 20 10000 -t 100 -r 100 10000 -en 0.5 1 tbs  < random_pop_size.sizes > random_pop_size.msOut"
   ]
  },
  {
   "cell_type": "markdown",
   "metadata": {},
   "source": [
    "Now we have to read in our simulation output and convert it into a data structure used by `scikit-allel` called a HaplotypeArray. The script msTools.py which we have included in this repository does this for us. Then we can calculate our statistics for each replicate.\n",
    "\n",
    "(One weird trick: we have to map our polymorphisms from a contiuous space to discrete space in order to use `scikit-allel`. The code below does that but we have to specify a number of sites we are mapping too, whuch must be greater than the number of polymorphisms. 10000 sites will be plenty here.)"
   ]
  },
  {
   "cell_type": "code",
   "execution_count": null,
   "metadata": {},
   "outputs": [],
   "source": [
    "from msTools import *\n",
    "import numpy as np\n",
    "import allel\n",
    "\n",
    "totalPhysLen=10000\n",
    "hapArraysIn, positionArrays = msOutToHaplotypeArrayIn(\"random_pop_size.msOut\", totalPhysLen)\n",
    "X = []\n",
    "for i in range(len(hapArraysIn)):\n",
    "    if i % 1000 == 0:\n",
    "        print \"done with %d instances\\n\" %(i)\n",
    "    #some of the statistics that we are going to calculate here require a HaplotypeArray as input, made thusly\n",
    "    haps = allel.HaplotypeArray(hapArraysIn[i], dtype='i1')\n",
    "    \n",
    "    #others require an AlleleCountsArray, which contains the minor allele frequencu for each polymorphism\n",
    "    #First we need to make GenotypeArray as an intermediate\n",
    "    genos = haps.to_genotypes(ploidy=2)\n",
    "    ac = genos.count_alleles()\n",
    "    \n",
    "    #now we build our feature vector, using various statistics calculated by scikit-allel.\n",
    "    #for more information on the usage of these see https://scikit-allel.readthedocs.io/en/latest/\n",
    "    currVec = []\n",
    "    currVec.append(allel.stats.diversity.tajima_d(ac, pos=positionArrays[i]))# Tajima's D\n",
    "    currVec.append(allel.stats.diversity.sequence_diversity(positionArrays[i], ac))# pi\n",
    "    currVec.append(allel.stats.diversity.watterson_theta(positionArrays[i], ac))# theta W\n",
    "    currVec.append(allel.stats.selection.garud_h(haps)[0])# avg. haplotype homozygosity\n",
    "    \n",
    "    X.append(currVec)\n",
    "\n",
    "print \"\"\n",
    "X = np.array(X)\n",
    "\n",
    "#reading in our target output\n",
    "Y = np.loadtxt(\"random_pop_size.sizes\")\n",
    "\n",
    "#now split our data into training and test sets\n",
    "from sklearn.model_selection import train_test_split\n",
    "X_train, X_test, Y_train, Y_test = train_test_split(X,Y,test_size=0.1)\n"
   ]
  },
  {
   "cell_type": "code",
   "execution_count": 25,
   "metadata": {
    "collapsed": true
   },
   "outputs": [],
   "source": [
    "#the last step in this process will be to shuffle the data, and then split it into a training set and a testing set\n",
    "#the testing set will NOT be used during training, and will allow us to check how well the classifier is doing\n",
    "#scikit-learn has a very convenient function for doing this shuffle and split operation\n",
    "#\n",
    "# will will keep out 25% of the data for testing\n",
    "\n",
    "from sklearn.model_selection import train_test_split\n",
    "X_train, X_test, Y_train, Y_test = train_test_split(X,Y,test_size=0.1)"
   ]
  },
  {
   "cell_type": "markdown",
   "metadata": {},
   "source": [
    "# Step 2: train our regressor\n",
    "Now that we have a training and testing set ready to go, we can move on to training our regressor. For this example we will use a random forest regressor as implemented by `scikit-learn`."
   ]
  },
  {
   "cell_type": "code",
   "execution_count": 20,
   "metadata": {},
   "outputs": [
    {
     "data": {
      "text/plain": [
       "RandomForestRegressor(bootstrap=True, criterion='mse', max_depth=None,\n",
       "           max_features='auto', max_leaf_nodes=None,\n",
       "           min_impurity_split=1e-07, min_samples_leaf=1,\n",
       "           min_samples_split=2, min_weight_fraction_leaf=0.0,\n",
       "           n_estimators=100, n_jobs=10, oob_score=False, random_state=None,\n",
       "           verbose=0, warm_start=False)"
      ]
     },
     "execution_count": 20,
     "metadata": {},
     "output_type": "execute_result"
    }
   ],
   "source": [
    "from sklearn.ensemble import RandomForestRegressor\n",
    "from sklearn import svm\n",
    "\n",
    "clf = RandomForestRegressor(n_estimators=100,n_jobs=10)\n",
    "clf.fit(X_train, Y_train)"
   ]
  },
  {
   "cell_type": "markdown",
   "metadata": {},
   "source": [
    "Piece of cake!"
   ]
  },
  {
   "cell_type": "markdown",
   "metadata": {},
   "source": [
    "# Step 3: benchmark our classifier\n",
    "Since we are doing regression, a sensible place to start might be to plot our true versus predicted values on our independent test set."
   ]
  },
  {
   "cell_type": "code",
   "execution_count": 23,
   "metadata": {},
   "outputs": [
    {
     "data": {
      "image/png": "[encoded data removed]",
      "text/plain": [
       "<matplotlib.figure.Figure at 0x7fc824ea0c90>"
      ]
     },
     "metadata": {},
     "output_type": "display_data"
    }
   ],
   "source": [
    "#now the actual work\n",
    "#first get the predictions\n",
    "preds=clf.predict(X_test)\n",
    "\n",
    "#now plot them\n",
    "import matplotlib.pyplot as plt\n",
    "fig,ax= plt.subplots(1,1)\n",
    "ax.scatter(Y_test, preds)\n",
    "ax.set_xlabel(\"True ancestral/current pop size ratio\")\n",
    "ax.set_ylabel(\"Predicted ancestral/current pop size ratio\")\n",
    "ax.set_xscale(\"log\")\n",
    "ax.set_yscale(\"log\")\n",
    "plt.show()"
   ]
  },
  {
   "cell_type": "markdown",
   "metadata": {},
   "source": [
    "Not too shabby!"
   ]
  }
 ],
 "metadata": {
  "kernelspec": {
   "display_name": "Python 2",
   "language": "python",
   "name": "python2"
  },
  "language_info": {
   "codemirror_mode": {
    "name": "ipython",
    "version": 2
   },
   "file_extension": ".py",
   "mimetype": "text/x-python",
   "name": "python",
   "nbconvert_exporter": "python",
   "pygments_lexer": "ipython2",
   "version": "2.7.13"
  }
 },
 "nbformat": 4,
 "nbformat_minor": 2
}
