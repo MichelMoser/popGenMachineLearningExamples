{
 "cells": [
  {
   "cell_type": "markdown",
   "metadata": {},
   "source": [
    "# Using a random forest for demographic model selection\n",
    "In Schrider and Kern (2017) we give a toy example of demographic model selection via supervised machine learning in Figure Box 1. Following a discussion on twitter, Vince Buffalo had the great idea of our providing a simple example of supervised ML in population genetics using a jupyter notebook; this notebook aims to serve that purpose by showing you exactly how we produced that figure in our paper"
   ]
  },
  {
   "cell_type": "markdown",
   "metadata": {},
   "source": [
    "## Preliminaries\n",
    "The road map here will be to 1) do some simulation of three demographic models, 2) to train a classifier to distinguish among those models, 3) test that classifier with new simulation data, and 4) to graphically present how well our trained classifier works. \n",
    "\n",
    "To do this we will use coalescent simulations as implemented in Dick Hudson's well known `ms` software and for the ML side of things we will use the `scikit-learn` package. Let's start by installing these dependencies (if you don't have them installed already)"
   ]
  },
  {
   "cell_type": "markdown",
   "metadata": {},
   "source": [
    "### Install, and compile `ms`\n",
    "We have put a copy of the `ms` tarball in this repo, so the following should work upon cloning"
   ]
  },
  {
   "cell_type": "code",
   "execution_count": 9,
   "metadata": {},
   "outputs": [
    {
     "name": "stdout",
     "output_type": "stream",
     "text": [
      "\u001b[1msample_stats.c:12:1: \u001b[0m\u001b[0;1;35mwarning: \u001b[0m\u001b[1mtype specifier missing, defaults to 'int'\r\n",
      "      [-Wimplicit-int]\u001b[0m\r\n",
      "main(argc,argv)\r\n",
      "\u001b[0;1;32m^\r\n",
      "\u001b[0m\u001b[1msample_stats.c:61:9: \u001b[0m\u001b[0;1;35mwarning: \u001b[0m\u001b[1mimplicit declaration of function 'biggerlist' is\r\n",
      "      invalid in C99 [-Wimplicit-function-declaration]\u001b[0m\r\n",
      "        biggerlist(nsam,maxsites, list) ;\r\n",
      "\u001b[0;1;32m        ^\r\n",
      "\u001b[0m\u001b[1msample_stats.c:117:1: \u001b[0m\u001b[0;1;35mwarning: \u001b[0m\u001b[1mcontrol reaches end of non-void function\r\n",
      "      [-Wreturn-type]\u001b[0m\r\n",
      "}                        \r\n",
      "\u001b[0;1;32m^\r\n",
      "\u001b[0m3 warnings generated.\r\n"
     ]
    }
   ],
   "source": [
    "#untar and compile ms and sample_stats\n",
    "!tar zxf ms.tar.gz; cd msdir; gcc -o ms ms.c streec.c rand1.c -lm; gcc -o sample_stats sample_stats.c tajd.c -lm\n",
    "#I get three compiler warnings from ms, but everything should be fine\n",
    "#now I'll just move the programs into the current working dir\n",
    "!mv msdir/ms . ; mv msdir/sample_stats .;"
   ]
  },
  {
   "cell_type": "markdown",
   "metadata": {},
   "source": [
    "### Install `scikit-learn`\n",
    "If you use anaconda, you may already have these modules installed, but if not you can install with either of the following"
   ]
  },
  {
   "cell_type": "code",
   "execution_count": null,
   "metadata": {},
   "outputs": [],
   "source": [
    "!conda install scikit-learn"
   ]
  },
  {
   "cell_type": "markdown",
   "metadata": {},
   "source": [
    "or if you don't use `conda`, you can use `pip` to install scikit-learn with"
   ]
  },
  {
   "cell_type": "code",
   "execution_count": null,
   "metadata": {
    "collapsed": true
   },
   "outputs": [],
   "source": [
    "!pip install -U scikit-learn"
   ]
  },
  {
   "cell_type": "markdown",
   "metadata": {},
   "source": [
    "# Step 1: create a training set and a testing set\n",
    "We will create a training set using simulations from three different demographic models: equilibrium population size, instantaneous population growth, and instantaneous population contraction. As you'll see this is really just a toy example because we will perform classification based on data from a single locus; in practice this would be ill-advised and you would want to use data from many loci simulataneously. \n",
    "\n",
    "So lets do some simulation using `ms` and summarize those simulations using the `sample_stats` program that Hudson provides. Ultimately we will only use two summary stats for classification, but one could use many more. Each of these simulations should take a few seconds to run."
   ]
  },
  {
   "cell_type": "code",
   "execution_count": 58,
   "metadata": {
    "collapsed": true
   },
   "outputs": [],
   "source": [
    "#simulate under the equilibrium model\n",
    "!./ms 20 2000 -t 100 -r 100 10000 | ./sample_stats > equilibrium.msOut.stats"
   ]
  },
  {
   "cell_type": "code",
   "execution_count": 59,
   "metadata": {
    "collapsed": true
   },
   "outputs": [],
   "source": [
    "#simulate under the contraction model\n",
    "!./ms 20 2000 -t 100 -r 100 10000 -en 0 1 0.5 -en 0.2 1 1 | ./sample_stats > contraction.msOut.stats"
   ]
  },
  {
   "cell_type": "code",
   "execution_count": 60,
   "metadata": {
    "collapsed": true
   },
   "outputs": [],
   "source": [
    "#simulate under the growth model\n",
    "!./ms 20 2000 -t 100 -r 100 10000 -en 0.2 1 0.5 | ./sample_stats > growth.msOut.stats"
   ]
  },
  {
   "cell_type": "code",
   "execution_count": 65,
   "metadata": {},
   "outputs": [],
   "source": [
    "#now lets suck up the data columns we want for each of these files, and create one big training set; we will use numpy for this\n",
    "# note that we are only using two columns of the data- these correspond to segSites and Fay & Wu's H\n",
    "import numpy as np\n",
    "X1 = np.loadtxt(\"equilibrium.msOut.stats\",usecols=(3,9))\n",
    "X2 = np.loadtxt(\"contraction.msOut.stats\",usecols=(3,9))\n",
    "X3 = np.loadtxt(\"growth.msOut.stats\",usecols=(3,9))\n",
    "X = np.concatenate((X1,X2,X3))\n",
    "\n",
    "#created associated 'labels' -- these will be the targets for training\n",
    "y = [0]*len(X1) + [1]*len(X2) + [2]*len(X3)\n",
    "Y = np.array(y)\n"
   ]
  },
  {
   "cell_type": "code",
   "execution_count": 66,
   "metadata": {},
   "outputs": [],
   "source": [
    "#the last step in this process will be to shuffle the data, and then split it into a training set and a testing set\n",
    "#the testing set will NOT be used during training, and will allow us to check how well the classifier is doing\n",
    "#scikit-learn has a very convenient function for doing this shuffle and split operation\n",
    "#\n",
    "# will will keep out 10% of the data for testing\n",
    "\n",
    "from sklearn.model_selection import train_test_split\n",
    "X_train, X_test, Y_train, Y_test = train_test_split(X,Y,test_size=0.1)"
   ]
  },
  {
   "cell_type": "markdown",
   "metadata": {},
   "source": [
    "# Step 2: train our classifier\n",
    "Now that we have a training and testing set ready to go, we can move on to training our classifier. For this example we will use a random forest classifier (Breiman 2001). This is all implemented in `scikit-learn` and so the code is very brief. "
   ]
  },
  {
   "cell_type": "code",
   "execution_count": 67,
   "metadata": {},
   "outputs": [],
   "source": [
    "from sklearn.ensemble import RandomForestClassifier\n",
    "from sklearn.preprocessing import normalize\n",
    "\n",
    "rfClf = RandomForestClassifier(n_estimators=100,n_jobs=10)\n",
    "clf = rfClf.fit(X_train, Y_train)\n"
   ]
  },
  {
   "cell_type": "markdown",
   "metadata": {},
   "source": [
    "That's it! The classifier is trained. This Random Forest classifer used 100 trees in its ensemble, a pretty large number considering that we are only using two summary stats to represent our data. Nevertheless it trains on the data very, very quickly.  \n",
    "\n",
    "# Step 3: benchmark our classifier\n",
    "The last step of the process is to use our trained classifier to predict which demographic models our test data are drawn from. Recall that the classifier hasn't seen these test data so this should be a fair test of how well the classifier will perform on any new data we throw at it in the future. We will visualize performance using a confusion matrix. "
   ]
  },
  {
   "cell_type": "code",
   "execution_count": 69,
   "metadata": {},
   "outputs": [
    {
     "data": {
      "image/png": "[encoded data removed]",
      "text/plain": [
       "<matplotlib.figure.Figure at 0x110bb5160>"
      ]
     },
     "metadata": {},
     "output_type": "display_data"
    }
   ],
   "source": [
    "#here's the confusion matrix function\n",
    "def makeConfusionMatrixHeatmap(data, title, trueClassOrderLs, predictedClassOrderLs, ax):\n",
    "    data = np.array(data)\n",
    "    data = normalize(data, axis=1, norm='l1')\n",
    "    heatmap = ax.pcolor(data, cmap=plt.cm.Blues, vmin=0.0, vmax=1.0)\n",
    "\n",
    "    for i in range(len(predictedClassOrderLs)):\n",
    "        for j in reversed(range(len(trueClassOrderLs))):\n",
    "            val = 100*data[j, i]\n",
    "            if val > 50:\n",
    "                c = '0.9'\n",
    "            else:\n",
    "                c = 'black'\n",
    "            ax.text(i + 0.5, j + 0.5, '%.2f%%' % val, horizontalalignment='center', verticalalignment='center', color=c, fontsize=9)\n",
    "\n",
    "    cbar = plt.colorbar(heatmap, cmap=plt.cm.Blues, ax=ax)\n",
    "    cbar.set_label(\"Fraction of simulations assigned to class\", rotation=270, labelpad=20, fontsize=11)\n",
    "\n",
    "    # put the major ticks at the middle of each cell\n",
    "    ax.set_xticks(np.arange(data.shape[1]) + 0.5, minor=False)\n",
    "    ax.set_yticks(np.arange(data.shape[0]) + 0.5, minor=False)\n",
    "    ax.axis('tight')\n",
    "    ax.set_title(title)\n",
    "\n",
    "    #lebels\n",
    "    ax.set_xticklabels(predictedClassOrderLs, minor=False, fontsize=9, rotation=45)\n",
    "    ax.set_yticklabels(reversed(trueClassOrderLs), minor=False, fontsize=9)\n",
    "    ax.set_xlabel(\"Predicted class\")\n",
    "    ax.set_ylabel(\"True class\")\n",
    "    \n",
    "#now the actual work\n",
    "#first get the predictions\n",
    "preds=clf.predict(X_test)\n",
    "\n",
    "counts=[[0.,0.,0.],[0.,0.,0.],[0.,0.,0.]]\n",
    "for i in range(len(Y_test)):\n",
    "    counts[Y_test[i]][preds[i]] += 1\n",
    "counts.reverse()\n",
    "classOrderLs=['equil','contraction','growth']\n",
    "\n",
    "#now do the plotting\n",
    "import matplotlib.pyplot as plt\n",
    "fig,ax= plt.subplots(1,1)\n",
    "makeConfusionMatrixHeatmap(counts, \"Confusion matrix\", classOrderLs, classOrderLs, ax)\n",
    "plt.show()"
   ]
  },
  {
   "cell_type": "markdown",
   "metadata": {},
   "source": [
    "Looks pretty good. But can we make it better? Well a simple way might be to increase the number of features (i.e. summary statistics) we use as input. Let's give that a whirl using all of the output from Hudson's `sample_stats`"
   ]
  },
  {
   "cell_type": "code",
   "execution_count": 70,
   "metadata": {},
   "outputs": [
    {
     "data": {
      "image/png": "[encoded data removed]",
      "text/plain": [
       "<matplotlib.figure.Figure at 0x114a44080>"
      ]
     },
     "metadata": {},
     "output_type": "display_data"
    }
   ],
   "source": [
    "X1 = np.loadtxt(\"equilibrium.msOut.stats\",usecols=(1,3,5,7,9))\n",
    "X2 = np.loadtxt(\"contraction.msOut.stats\",usecols=(1,3,5,7,9))\n",
    "X3 = np.loadtxt(\"growth.msOut.stats\",usecols=(1,3,5,7,9))\n",
    "X = np.concatenate((X1,X2,X3))\n",
    "#created associated 'labels' -- these will be the targets for training\n",
    "y = [0]*len(X1) + [1]*len(X2) + [2]*len(X3)\n",
    "Y = np.array(y)\n",
    "X_train, X_test, Y_train, Y_test = train_test_split(X,Y,test_size=0.1)\n",
    "rfClf = RandomForestClassifier(n_estimators=100,n_jobs=10)\n",
    "clf = rfClf.fit(X_train, Y_train)\n",
    "preds=clf.predict(X_test)\n",
    "counts=[[0.,0.,0.],[0.,0.,0.],[0.,0.,0.]]\n",
    "for i in range(len(Y_test)):\n",
    "    counts[Y_test[i]][preds[i]] += 1\n",
    "counts.reverse()\n",
    "fig,ax= plt.subplots(1,1)\n",
    "makeConfusionMatrixHeatmap(counts, \"Confusion matrix\", classOrderLs, classOrderLs, ax)\n",
    "plt.show()"
   ]
  },
  {
   "cell_type": "markdown",
   "metadata": {},
   "source": [
    "Even better!\n",
    "\n",
    "Hopefully this simple example gives you the gist of how supervised ML can be used. In the future we will populate this github repository with further examples that might be illustrative. "
   ]
  },
  {
   "cell_type": "code",
   "execution_count": null,
   "metadata": {
    "collapsed": true
   },
   "outputs": [],
   "source": []
  }
 ],
 "metadata": {
  "kernelspec": {
   "display_name": "Python 3",
   "language": "python",
   "name": "python3"
  },
  "language_info": {
   "codemirror_mode": {
    "name": "ipython",
    "version": 3
   },
   "file_extension": ".py",
   "mimetype": "text/x-python",
   "name": "python",
   "nbconvert_exporter": "python",
   "pygments_lexer": "ipython3",
   "version": "3.6.0"
  }
 },
 "nbformat": 4,
 "nbformat_minor": 2
}
